{
 "cells": [
  {
   "cell_type": "code",
   "execution_count": 1,
   "id": "1b73afcb",
   "metadata": {},
   "outputs": [
    {
     "name": "stdout",
     "output_type": "stream",
     "text": [
      "The name of City 1 after swapping is borno\n",
      "The name of City 2 after swapping is cross\n"
     ]
    }
   ],
   "source": [
    "# Program to swap two city names\n",
    "\n",
    "#To take inputs from the user\n",
    "city_1 = input('Enter name of City 1: ')\n",
    "city_2 = input('Enter name of City 2: ')\n",
    "\n",
    "\n",
    "# Swapping the cities using a temporary variable\n",
    "temp = city_1\n",
    "city_1 = city_2\n",
    "city_2 = temp\n",
    "\n",
    "print(f\"The name of City 1 after swapping is {city_1}\")\n",
    "print(f\"The name of City 2 after swapping is {city_2}\")"
   ]
  },
  {
   "cell_type": "code",
   "execution_count": 2,
   "id": "abebfbce",
   "metadata": {},
   "outputs": [
    {
     "name": "stdout",
     "output_type": "stream",
     "text": [
      "Positive number\n"
     ]
    }
   ],
   "source": [
    "# Program to Check if a Number is Positive, Negative or Zero\n",
    "num = float(input(\"Enter a number: \"))\n",
    "\n",
    "if num > 0:\n",
    "    print(\"Positive number\")\n",
    "elif num == 0:\n",
    "    print(\"Zero\")\n",
    "else:\n",
    "    print(\"Negative number\")"
   ]
  },
  {
   "cell_type": "code",
   "execution_count": 4,
   "id": "782af034",
   "metadata": {},
   "outputs": [
    {
     "name": "stdout",
     "output_type": "stream",
     "text": [
      "Welcome to the COUPE DE ESCRIVA 2023: FOOTBALL PICKS\n",
      "\n",
      "Team Captains:\n",
      "Madiba: Chubby Obiora-Okafo\n",
      "Blue Jays: Christopher Uweh\n",
      "Cirok: Alexander\n",
      "TSG Walkers: Ikechukwu\n",
      "\n",
      "Goalkeepers:\n",
      "Madiba: Chubby Obiora-Okafo\n",
      "Blue Jays: Oladimeji Abaniwondea/Jeffery Anidi\n",
      "Cirok: Timileyin Pearse/Izuako Jeremy\n",
      "TSG Walkers: Ayomide Ojituku\n"
     ]
    }
   ],
   "source": [
    "# COUPE DE ESCRIVA 2023: FOOTBALL PICKS\n",
    "print(\"Welcome to the COUPE DE ESCRIVA 2023: FOOTBALL PICKS\\n\")\n",
    "\n",
    "# Dictionary of team captains\n",
    "captains = {\n",
    "    'Madiba': 'Chubby Obiora-Okafo',\n",
    "    'Blue Jays': 'Christopher Uweh',\n",
    "    'Cirok': 'Alexander',\n",
    "    'TSG Walkers': 'Ikechukwu'\n",
    "}\n",
    "\n",
    "# Dictionary of goalkeepers\n",
    "goalkeepers = {\n",
    "    'Madiba': 'Chubby Obiora-Okafo',\n",
    "    'Blue Jays': 'Oladimeji Abaniwondea/Jeffery Anidi',\n",
    "    'Cirok': 'Timileyin Pearse/Izuako Jeremy',\n",
    "    'TSG Walkers': 'Ayomide Ojituku'\n",
    "}\n",
    "\n",
    "# Print captains\n",
    "print(\"Team Captains:\")\n",
    "for pick in captains:\n",
    "    print(f\"{pick}: {captains[pick]}\")\n",
    "\n",
    "print(\"\\nGoalkeepers:\")\n",
    "for pick in goalkeepers:\n",
    "    print(f\"{pick}: {goalkeepers[pick]}\")\n"
   ]
  },
  {
   "cell_type": "markdown",
   "id": "cd31597e",
   "metadata": {},
   "source": [
    "Project 1"
   ]
  },
  {
   "cell_type": "code",
   "execution_count": null,
   "id": "30837c9c",
   "metadata": {},
   "outputs": [],
   "source": [
    "import pandas as pd\n",
    "\n",
    "# Girls data\n",
    "girls_names = ['Evelyn', 'Jessica', 'Somto', 'Edith', 'Liza', 'Madorina', 'Waje', 'Tola', 'Aisha', 'Latifa']\n",
    "girls_age = [17, 16, 17, 18, 16, 18, 17, 20, 19, 17]\n",
    "girls_height = [5.5, 6.0, 5.4, 5.9, 5.6, 5.5, 6.1, 5.0, 5.7, 5.5]\n",
    "girls_scores = [80, 85, 70, 60, 76, 66, 87, 95, 50, 49]\n",
    "\n",
    "# Boys data\n",
    "boys_names = ['Chinedu', 'Liam', 'Wale', 'Gbenga', 'Abiola', 'Kola', 'Kunle', 'George', 'Thomas', 'Wesley']\n",
    "boys_age = [19, 16, 18, 17, 20, 19, 16, 18, 17, 19]\n",
    "boys_height = [5.7, 5.9, 5.8, 6.1, 5.9, 5.5, 6.1, 5.4, 5.8, 5.7]\n",
    "boys_scores = [74, 87, 75, 68, 66, 78, 87, 98, 54, 60]\n",
    "\n",
    "# Create DataFrames\n",
    "girls_df = pd.DataFrame({\n",
    "    'Name': girls_names,\n",
    "    'Gender': 'Female',\n",
    "    'Age': girls_age,\n",
    "    'Height': girls_height,\n",
    "    'Score': girls_scores\n",
    "})\n",
    "\n",
    "boys_df = pd.DataFrame({\n",
    "    'Name': boys_names,\n",
    "    'Gender': 'Male',\n",
    "    'Age': boys_age,\n",
    "    'Height': boys_height,\n",
    "    'Score': boys_scores\n",
    "})\n",
    "\n",
    "# Combine both DataFrames\n",
    "all_students = pd.concat([girls_df, boys_df], ignore_index=True)\n",
    "\n",
    "# Display the tables\n",
    "print(\"\\nGirls Data:\")\n",
    "print(girls_df.to_markdown(index=False))\n",
    "\n",
    "print(\"\\nBoys Data:\")\n",
    "print(boys_df.to_markdown(index=False))\n",
    "\n",
    "print(\"\\nAll Students Data:\")\n",
    "print(all_students.to_markdown(index=False))\n",
    "\n",
    "# Calculate and display statistics\n",
    "print(\"\\nClass Statistics:\")\n",
    "stats = all_students.groupby('Gender').agg({\n",
    "    'Age': ['mean', 'min', 'max'],\n",
    "    'Height': ['mean', 'min', 'max'],\n",
    "    'Score': ['mean', 'min', 'max']\n",
    "})\n",
    "print(stats.to_markdown())"
   ]
  },
  {
   "cell_type": "markdown",
   "id": "156a6ec8",
   "metadata": {},
   "source": [
    "Project 2 (Izifin Technology Tax Calculator)"
   ]
  },
  {
   "cell_type": "code",
   "execution_count": null,
   "id": "506bf0d2",
   "metadata": {},
   "outputs": [],
   "source": [
    "# Izifin Technology Annual Tax Revenue Calculator\n",
    "years_exp = float(input(\"Enter years of experience: \"))\n",
    "age = int(input(\"Enter staff age: \"))\n",
    "\n",
    "if years_exp > 25 and age >= 55:\n",
    "    atr = 5_600_000\n",
    "elif years_exp > 20 and age >= 45:\n",
    "    atr = 4_480_000\n",
    "elif years_exp > 10 and age >= 35:\n",
    "    atr = 1_500_000\n",
    "else:\n",
    "    atr = 550_000\n",
    "\n",
    "print(f\"Annual Tax Revenue (ATR): N{atr:,}\")"
   ]
  }
 ],
 "metadata": {
  "kernelspec": {
   "display_name": "base",
   "language": "python",
   "name": "python3"
  },
  "language_info": {
   "codemirror_mode": {
    "name": "ipython",
    "version": 3
   },
   "file_extension": ".py",
   "mimetype": "text/x-python",
   "name": "python",
   "nbconvert_exporter": "python",
   "pygments_lexer": "ipython3",
   "version": "3.12.7"
  }
 },
 "nbformat": 4,
 "nbformat_minor": 5
}

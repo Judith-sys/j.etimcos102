{
 "cells": [
  {
   "cell_type": "code",
   "execution_count": 1,
   "id": "8ad50f3f",
   "metadata": {},
   "outputs": [
    {
     "name": "stdout",
     "output_type": "stream",
     "text": [
      "\n",
      "Simple Interest: 80.00\n",
      "Total Amount: 1080.00\n"
     ]
    }
   ],
   "source": [
    "#Simple Interest Calculator \n",
    "# Simple Interest: (Principal * Rate * Time) / 100\n",
    "principal = float(input(\"Enter Principal Amount: \"))\n",
    "rate = float(input(\"Enter Interest Rate (% per year): \"))\n",
    "time = float(input(\"Enter Time (in years): \"))\n",
    "\n",
    "interest = (principal * rate * time) / 100\n",
    "total = principal + interest\n",
    "\n",
    "print(f\"\\nSimple Interest: {interest:.2f}\")\n",
    "print(f\"Total Amount: {total:.2f}\")"
   ]
  },
  {
   "cell_type": "code",
   "execution_count": 2,
   "id": "0e97b054",
   "metadata": {},
   "outputs": [
    {
     "name": "stdout",
     "output_type": "stream",
     "text": [
      "\n",
      "Compound Interest: 68.02\n",
      "Total Amount: 268.02\n"
     ]
    }
   ],
   "source": [
    "#Compound Interest Calculator\n",
    "# Compound Interest: Principal * (1 + Rate)^Time - Principal\n",
    "principal = float(input(\"Enter Principal Amount: \"))\n",
    "rate = float(input(\"Enter Annual Rate (%): \")) / 100  # Convert % to decimal\n",
    "time = float(input(\"Enter Time (in years): \"))\n",
    "\n",
    "amount = principal * (1 + rate) ** time\n",
    "interest = amount - principal\n",
    "\n",
    "print(f\"\\nCompound Interest: {interest:.2f}\")\n",
    "print(f\"Total Amount: {amount:.2f}\")"
   ]
  },
  {
   "cell_type": "code",
   "execution_count": 3,
   "id": "8c4db5a9",
   "metadata": {},
   "outputs": [
    {
     "name": "stdout",
     "output_type": "stream",
     "text": [
      "\n",
      "Future Value of Annuity: 37309059.97\n"
     ]
    }
   ],
   "source": [
    "#Annuity Plan Claculator \n",
    "# Annuity: Monthly savings grow with interest\n",
    "monthly_payment = float(input(\"Enter Monthly Savings: \"))\n",
    "annual_rate = float(input(\"Enter Annual Interest Rate (%): \")) / 100\n",
    "years = int(input(\"Enter Number of Years: \"))\n",
    "\n",
    "months = years * 12\n",
    "monthly_rate = annual_rate / 12\n",
    "future_value = 0\n",
    "\n",
    "for _ in range(months):\n",
    "    future_value = (future_value + monthly_payment) * (1 + monthly_rate)\n",
    "\n",
    "print(f\"\\nFuture Value of Annuity: {future_value:.2f}\")"
   ]
  }
 ],
 "metadata": {
  "kernelspec": {
   "display_name": "base",
   "language": "python",
   "name": "python3"
  },
  "language_info": {
   "codemirror_mode": {
    "name": "ipython",
    "version": 3
   },
   "file_extension": ".py",
   "mimetype": "text/x-python",
   "name": "python",
   "nbconvert_exporter": "python",
   "pygments_lexer": "ipython3",
   "version": "3.12.7"
  }
 },
 "nbformat": 4,
 "nbformat_minor": 5
}

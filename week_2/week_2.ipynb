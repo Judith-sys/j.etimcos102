{
 "cells": [
  {
   "cell_type": "code",
   "execution_count": 1,
   "id": "5e5bcba2",
   "metadata": {},
   "outputs": [
    {
     "name": "stdout",
     "output_type": "stream",
     "text": [
      "Your state of origin is: Cross River\n",
      "The first character is: C\n",
      "The characters starting from 3rd to 5th are: oss\n",
      "The string starting from 3rd character is: oss River\n",
      "State of origin two times Cross RiverCross River\n"
     ]
    }
   ],
   "source": [
    "str = input(\"Enter your state of origin:\")\n",
    "\n",
    "print(\"Your state of origin is:\" , str)\n",
    "print(\"The first character is:\",str[0])\n",
    "print(\"The characters starting from 3rd to 5th are:\",str[2:5])\n",
    "print(\"The string starting from 3rd character is:\" , str[2:])\n",
    "print(\"State of origin two times\",str * 2)"
   ]
  },
  {
   "cell_type": "code",
   "execution_count": 13,
   "id": "ef57d668",
   "metadata": {},
   "outputs": [
    {
     "name": "stdout",
     "output_type": "stream",
     "text": [
      "The energy equivalent to 500.0 kg of mass is 4.493775893684088e+19 joules.\n"
     ]
    }
   ],
   "source": [
    " #Input from user \n",
    "m = float(input(\"Enter mass in kilograms: \"))\n",
    "\n",
    " #Constant value for the speed of Light in m/s\n",
    "c = 299792458\n",
    "\n",
    " # Calculating energy using Einstein's equation\n",
    "energy = m * c ** 2\n",
    "\n",
    " # Displaying the result\n",
    "print(f\"The energy equivalent to {m} kg of mass is {energy} joules.\")"
   ]
  },
  {
   "cell_type": "code",
   "execution_count": 42,
   "id": "f7b0b44a",
   "metadata": {},
   "outputs": [
    {
     "name": "stdout",
     "output_type": "stream",
     "text": [
      "['Anaconda', 786, 2.23, 'Jupyter', 70.2]\n",
      "Anaconda\n",
      "[786, 2.23]\n",
      "[2.23, 'Jupyter', 70.2]\n",
      "[321, 'Python', 321, 'Python']\n",
      "['Anaconda', 786, 2.23, 'Jupyter', 70.2, 321, 'Python']\n"
     ]
    }
   ],
   "source": [
    "list = [ 'Anaconda', 786, 2.23, 'Jupyter', 70.2]\n",
    "\n",
    "shortlist = [321, 'Python']\n",
    "\n",
    "print(list)        #Prints complete list\n",
    "print(list[0])     # Prints first element of the list\n",
    "print(list[1:3])   # Prints elements starting from 2nd till 3rd\n",
    "print(list[2:])     #Prints elements starting from 3rd element\n",
    "print(shortlist * 2)  # Prints List two times\n",
    "print(list + shortlist) # Prints concatenated Lists\n",
    "\n"
   ]
  },
  {
   "cell_type": "code",
   "execution_count": 45,
   "id": "3749e79b",
   "metadata": {},
   "outputs": [
    {
     "name": "stdout",
     "output_type": "stream",
     "text": [
      "('Ekiti', 750, 'Oshogbo', 250, 'Akure', 500)\n",
      "500\n",
      "('Oshogbo', 250)\n",
      "(250, 'Akure', 500)\n",
      "('Abeokuta', 300, 'Ogbomoso', 'Abeokuta', 300, 'Ogbomoso', 'Abeokuta', 300, 'Ogbomoso')\n",
      "('Ekiti', 750, 'Oshogbo', 250, 'Akure', 500, 'Abeokuta', 300, 'Ogbomoso')\n"
     ]
    }
   ],
   "source": [
    "tuple = (\"Ekiti\", 750, 'Oshogbo', 250, \"Akure\", 500)\n",
    "s_tuple = (\"Abeokuta\", 300, \"Ogbomoso\")\n",
    "\n",
    "# Prints the complete tuple\n",
    "print(tuple)\n",
    "\n",
    "# Prints last element of the tuple\n",
    "print(tuple[-1])\n",
    "\n",
    "# Prints elements of the tuple starting from 2nd till 3rd\n",
    "print(tuple[2:4])\n",
    "\n",
    "# Prints elements of the tuple starting from 3rd element\n",
    "print(tuple[3:])\n",
    "\n",
    "# Prints the contents of the tuple twice\n",
    "print(s_tuple * 3)\n",
    "\n",
    "# Prints concatenated tuples\n",
    "print(tuple + s_tuple)"
   ]
  },
  {
   "cell_type": "code",
   "execution_count": 47,
   "id": "eafd1792",
   "metadata": {},
   "outputs": [
    {
     "name": "stdout",
     "output_type": "stream",
     "text": [
      "False\n",
      "False\n",
      "False\n",
      "False\n",
      "True\n"
     ]
    }
   ],
   "source": [
    "# Returns false as game_1 is not equal to game_2\n",
    "\n",
    "game_1 = 2\n",
    "game_2 = 4\n",
    "\n",
    "print(bool(game_1 == game_2))\n",
    " # Or\n",
    "print(game_1 == game_2)\n",
    "\n",
    " # Returns False as val is None\n",
    "val = None\n",
    "print(bool (val))\n",
    "\n",
    " # Returns false as num is an empty sequence\n",
    "num = ()\n",
    "print(bool(num))\n",
    "\n",
    " # Returns true as age is boolean\n",
    "age = True\n",
    "print(bool(age))\n",
    "\n",
    "\n"
   ]
  },
  {
   "cell_type": "code",
   "execution_count": 59,
   "id": "2ffff6e9",
   "metadata": {},
   "outputs": [
    {
     "name": "stdout",
     "output_type": "stream",
     "text": [
      "Grade = 70\n",
      "GPA = 4\n",
      "CGPA = 4\n"
     ]
    }
   ],
   "source": [
    "#Convert to int\n",
    "\n",
    "grade = int(70)    # grade will be 70\n",
    "gpa = int(4.9)     # gpa will be 4.9\n",
    "cgpa = int(\"4\")    # cgpa will be 4\n",
    "\n",
    "print(f\"Grade = {grade}\")\n",
    "\n",
    "print(f\"GPA = {gpa}\")\n",
    "\n",
    "print(f\"CGPA = {cgpa}\")\n"
   ]
  },
  {
   "cell_type": "code",
   "execution_count": 70,
   "id": "1071eff2",
   "metadata": {},
   "outputs": [
    {
     "name": "stdout",
     "output_type": "stream",
     "text": [
      "Grade = 97.0\n",
      "GPA = 5.0\n",
      "CGPA = 4.7\n"
     ]
    }
   ],
   "source": [
    "# Convert to float\n",
    "\n",
    "grade = float(97)\n",
    "gpa = float(5)\n",
    "cgpa = float(\"4.7\")\n",
    "\n",
    "print(f\"Grade = {grade}\")\n",
    "print(f\"GPA = {gpa}\")\n",
    "print(f\"CGPA = {cgpa}\")"
   ]
  },
  {
   "cell_type": "markdown",
   "id": "f4fb9b6f",
   "metadata": {},
   "source": [
    "Project 1 \n"
   ]
  },
  {
   "cell_type": "code",
   "execution_count": null,
   "id": "4a909f66",
   "metadata": {},
   "outputs": [
    {
     "name": "stdout",
     "output_type": "stream",
     "text": [
      "\n",
      "Grades: [100.0, 100.0, 100.0, 100.0, 100.0]\n",
      "Average: 100.00\n",
      "Result: PASS\n"
     ]
    }
   ],
   "source": [
    "# Input two names and ages\n",
    "name1 = input(\"Enter first name: \")\n",
    "age1 = int(input(f\"Enter {name1}'s age: \"))\n",
    "name2 = input(\"Enter second name: \")\n",
    "age2 = int(input(f\"Enter {name2}'s age: \"))\n",
    "\n",
    "# Display original values\n",
    "print(f\"\\nOriginal values:\")\n",
    "print(f\"{name1}: {age1} years\")\n",
    "print(f\"{name2}: {age2} years\")\n",
    "\n",
    "# Swap ages\n",
    "age1, age2 = age2, age1\n",
    "\n",
    "# Display swapped values\n",
    "print(f\"\\nAfter swapping ages:\")\n",
    "print(f\"{name1}: {age1} years\")\n",
    "print(f\"{name2}: {age2} years\")"
   ]
  },
  {
   "cell_type": "markdown",
   "id": "5f17d41b",
   "metadata": {},
   "source": [
    "PSEUDOCODE for Project 1\n",
    "BEGIN Store Checkout\n",
    "   TOTAL = 0\n",
    "   REPEAT\n",
    "      INPUT item_price\n",
    "      INPUT quantity\n",
    "      SUBTOTAL = item_price * quantity\n",
    "      TOTAL = TOTAL + SUBTOTAL\n",
    "      DISPLAY \"Add more items? (Y/N)\"\n",
    "      INPUT continue_shopping\n",
    "   UNTIL continue_shopping = 'N'\n",
    "   \n",
    "   APPLY discount if applicable\n",
    "   CALCULATE tax\n",
    "   FINAL_TOTAL = TOTAL + tax - discount\n",
    "   DISPLAY \"Your total is: $\", FINAL_TOTAL\n",
    "   PROCESS payment\n",
    "END"
   ]
  },
  {
   "cell_type": "markdown",
   "id": "3a8d2e54",
   "metadata": {},
   "source": [
    "Project 2"
   ]
  },
  {
   "cell_type": "code",
   "execution_count": 6,
   "id": "cf10d444",
   "metadata": {},
   "outputs": [
    {
     "name": "stdout",
     "output_type": "stream",
     "text": [
      "Choose equation type:\n",
      "1. Quadratic (ax² + bx + c = 0)\n",
      "2. Cubic (ax³ + bx² + cx + d = 0)\n",
      "Two real roots: -0.26 and -11.74\n"
     ]
    }
   ],
   "source": [
    "import math\n",
    "\n",
    "def solve_quadratic(a, b, c):\n",
    "    \"\"\"Solve ax² + bx + c = 0\"\"\"\n",
    "    if a == 0:\n",
    "        return \"This is not a quadratic equation.\"\n",
    "\n",
    "    discriminant = b**2 - 4*a*c\n",
    "\n",
    "    if discriminant > 0:\n",
    "        root1 = (-b + math.sqrt(discriminant)) / (2 * a)\n",
    "        root2 = (-b - math.sqrt(discriminant)) / (2 * a)\n",
    "        return f\"Two real roots: {round(root1, 2)} and {round(root2, 2)}\"\n",
    "    elif discriminant == 0:\n",
    "        root = -b / (2 * a)\n",
    "        return f\"One real root: {round(root, 2)}\"\n",
    "    else:\n",
    "        return \"No real roots\"\n",
    "\n",
    "def solve_cubic(a, b, c, d):\n",
    "    \"\"\"Try to find one real root of ax³ + bx² + cx + d = 0\"\"\"\n",
    "    x = -10\n",
    "    while x <= 10:\n",
    "        value = a*x**3 + b*x**2 + c*x + d\n",
    "        if abs(value) < 0.1:\n",
    "            return f\"Approximate root: {round(x, 2)}\"\n",
    "        x += 0.1\n",
    "    return \"Couldn't find a root\"\n",
    "\n",
    "print(\"Choose equation type:\")\n",
    "print(\"1. Quadratic (ax² + bx + c = 0)\")\n",
    "print(\"2. Cubic (ax³ + bx² + cx + d = 0)\")\n",
    "\n",
    "choice = input(\"Enter 1 or 2: \")\n",
    "\n",
    "if choice == \"1\":\n",
    "    a = float(input(\"Enter a: \"))\n",
    "    b = float(input(\"Enter b: \"))\n",
    "    c = float(input(\"Enter c: \"))\n",
    "    print(solve_quadratic(a, b, c))\n",
    "\n",
    "elif choice == \"2\":\n",
    "    a = float(input(\"Enter a: \"))\n",
    "    b = float(input(\"Enter b: \"))\n",
    "    c = float(input(\"Enter c: \"))\n",
    "    d = float(input(\"Enter d: \"))\n",
    "    print(solve_cubic(a, b, c, d))\n",
    "\n",
    "else:\n",
    "    print(\"Invalid choice.\")\n"
   ]
  }
 ],
 "metadata": {
  "kernelspec": {
   "display_name": "base",
   "language": "python",
   "name": "python3"
  },
  "language_info": {
   "codemirror_mode": {
    "name": "ipython",
    "version": 3
   },
   "file_extension": ".py",
   "mimetype": "text/x-python",
   "name": "python",
   "nbconvert_exporter": "python",
   "pygments_lexer": "ipython3",
   "version": "3.12.7"
  }
 },
 "nbformat": 4,
 "nbformat_minor": 5
}

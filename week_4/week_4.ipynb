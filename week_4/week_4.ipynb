{
 "cells": [
  {
   "cell_type": "code",
   "execution_count": 2,
   "id": "6810421a",
   "metadata": {},
   "outputs": [
    {
     "name": "stdout",
     "output_type": "stream",
     "text": [
      "I'm first call to user defined function!\n",
      "Again second call to the same function\n"
     ]
    }
   ],
   "source": [
    "def printme(str):\n",
    "    # This is a print function\n",
    "    print(str)\n",
    "    return\n",
    "\n",
    "printme(\"I'm first call to user defined function!\")\n",
    "printme(\"Again second call to the same function\")\n"
   ]
  },
  {
   "cell_type": "code",
   "execution_count": 3,
   "id": "cffb08a4",
   "metadata": {},
   "outputs": [
    {
     "name": "stdout",
     "output_type": "stream",
     "text": [
      "Values inside the function: [10, 20, 30, [1, 2, 3, 4]]\n",
      "Values outside the function: [10, 20, 30, [1, 2, 3, 4]]\n"
     ]
    }
   ],
   "source": [
    "def changeme(mylist):\n",
    "    # This changes a passed list\n",
    "    mylist.append([1, 2, 3, 4])\n",
    "    print(\"Values inside the function:\", mylist)\n",
    "\n",
    "mylist = [10, 20, 30]\n",
    "\n",
    "changeme(mylist)\n",
    "\n",
    "print(\"Values outside the function:\", mylist)\n"
   ]
  },
  {
   "cell_type": "code",
   "execution_count": 4,
   "id": "bd72f29d",
   "metadata": {},
   "outputs": [
    {
     "name": "stdout",
     "output_type": "stream",
     "text": [
      "Values inside the function:  [1, 2, 3, 4]\n",
      "Values outside the function:  [10, 20, 30]\n"
     ]
    }
   ],
   "source": [
    "def changeme(mylist):\n",
    "    # This changes a passed list\n",
    "    mylist = [1, 2, 3, 4]   \n",
    "    print(\"Values inside the function: \", mylist)\n",
    "    return\n",
    "\n",
    "mylist = [10, 20, 30]\n",
    "changeme(mylist)\n",
    "print(\"Values outside the function: \", mylist)\n"
   ]
  },
  {
   "cell_type": "code",
   "execution_count": 5,
   "id": "891663cc",
   "metadata": {},
   "outputs": [
    {
     "name": "stdout",
     "output_type": "stream",
     "text": [
      "My string\n"
     ]
    }
   ],
   "source": [
    "def printme(str):\n",
    "    # This prints passed string\n",
    "    print(str)\n",
    "    \n",
    "printme(str=\"My string\")\n"
   ]
  },
  {
   "cell_type": "code",
   "execution_count": 7,
   "id": "87663924",
   "metadata": {},
   "outputs": [
    {
     "name": "stdout",
     "output_type": "stream",
     "text": [
      "Name: miki\n",
      "Age: 50\n"
     ]
    }
   ],
   "source": [
    "def printinfo(name, age):\n",
    "    # Test function\n",
    "    print(\"Name:\", name)\n",
    "    print(\"Age:\", age)\n",
    "\n",
    "printinfo(age=50, name=\"miki\")\n"
   ]
  },
  {
   "cell_type": "code",
   "execution_count": 8,
   "id": "1fa0efd6",
   "metadata": {},
   "outputs": [
    {
     "name": "stdout",
     "output_type": "stream",
     "text": [
      "Name: miki\n",
      "Age: 50\n"
     ]
    }
   ],
   "source": [
    "def printinfo(name, age):\n",
    "    # Test function\n",
    "    print(\"Name:\", name)\n",
    "    print(\"Age:\", age)\n",
    "\n",
    "printinfo(age=50, name=\"miki\")\n"
   ]
  },
  {
   "cell_type": "code",
   "execution_count": 9,
   "id": "4d5b1e58",
   "metadata": {},
   "outputs": [
    {
     "name": "stdout",
     "output_type": "stream",
     "text": [
      "Output is:\n",
      "10\n",
      "Output is:\n",
      "70\n",
      "60\n",
      "50\n"
     ]
    }
   ],
   "source": [
    "def printinfo(arg1, *vartuple):\n",
    "    # This is test\n",
    "    print(\"Output is:\")\n",
    "    print(arg1)\n",
    "    for var in vartuple:\n",
    "        print(var)\n",
    "\n",
    "printinfo(10)\n",
    "printinfo(70, 60, 50)\n"
   ]
  },
  {
   "cell_type": "code",
   "execution_count": 10,
   "id": "1072b131",
   "metadata": {},
   "outputs": [
    {
     "name": "stdout",
     "output_type": "stream",
     "text": [
      "Inside the function local total: 30\n",
      "Outside the function global total: 50\n"
     ]
    }
   ],
   "source": [
    "total = 50  # This is a global variable\n",
    "\n",
    "def sum(arg1, arg2):\n",
    "    # Add both the parameters\n",
    "    total = arg1 + arg2  \n",
    "    print(\"Inside the function local total:\", total)\n",
    "    return total\n",
    "\n",
    "# Now you can call sum function\n",
    "sum(10, 20)\n",
    "\n",
    "print(\"Outside the function global total:\", total)\n"
   ]
  },
  {
   "cell_type": "code",
   "execution_count": 12,
   "id": "2b7242aa",
   "metadata": {},
   "outputs": [
    {
     "name": "stdout",
     "output_type": "stream",
     "text": [
      "Lawal Edward Tolu Tina\n",
      "Mary\n"
     ]
    }
   ],
   "source": [
    "def swap(x, y):\n",
    "    global a \n",
    "    a = \"Lawal\"  \n",
    "    x, y = y, x  \n",
    "    b = \"Chris\"\n",
    "    b = \"Edward\"  # Overrides previous value\n",
    "    c = \"Lola\"\n",
    "    print(a, b, x, y)  \n",
    "    a = \"Mary\"  # Changes global 'a'\n",
    "\n",
    "# Function call outside\n",
    "swap(\"Tina\", \"Tolu\")\n",
    "\n",
    "# Print global variable 'a'\n",
    "print(a)\n"
   ]
  }
 ],
 "metadata": {
  "kernelspec": {
   "display_name": "base",
   "language": "python",
   "name": "python3"
  },
  "language_info": {
   "codemirror_mode": {
    "name": "ipython",
    "version": 3
   },
   "file_extension": ".py",
   "mimetype": "text/x-python",
   "name": "python",
   "nbconvert_exporter": "python",
   "pygments_lexer": "ipython3",
   "version": "3.12.7"
  }
 },
 "nbformat": 4,
 "nbformat_minor": 5
}
